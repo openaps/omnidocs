{
 "cells": [
  {
   "cell_type": "code",
   "execution_count": 1,
   "metadata": {
    "collapsed": false
   },
   "outputs": [],
   "source": [
    "import pandas as pd\n",
    "%matplotlib inline\n",
    "import matplotlib\n",
    "import numpy as np\n",
    "import matplotlib.pyplot as plt\n",
    "import dateutil\n",
    "import analysis\n",
    "\n",
    "packets = analysis.parse_packet_file('data/all.txt')\n",
    "packets += analysis.parse_packet_file('data/temp_basals.txt')\n",
    "\n",
    "# Select valid packets\n",
    "packets = filter(lambda x: x.is_valid() and x.body_len == 3, packets)\n"
   ]
  },
  {
   "cell_type": "code",
   "execution_count": 2,
   "metadata": {
    "collapsed": false
   },
   "outputs": [
    {
     "name": "stdout",
     "output_type": "stream",
     "text": [
      "2016-06-26T20:33:28.412197 ID1:1f01482a PTYPE:PDM SEQ:13 ID2:1f01482a B9:10 BLEN:3 MTYPE:0e01 BODY:00802c CRC:88\n"
     ]
    }
   ],
   "source": [
    "print packets[0]"
   ]
  },
  {
   "cell_type": "code",
   "execution_count": 3,
   "metadata": {
    "collapsed": false
   },
   "outputs": [
    {
     "name": "stdout",
     "output_type": "stream",
     "text": [
      "1f01482aad1f01482a10030e0100802c88\n"
     ]
    }
   ],
   "source": [
    "print packets[0].tx_data().encode('hex')"
   ]
  },
  {
   "cell_type": "code",
   "execution_count": 8,
   "metadata": {
    "collapsed": false
   },
   "outputs": [],
   "source": [
    "def split_parts(data, idx):\n",
    "    return (ord(data[idx]), (data[4:idx] + data[idx+1:-3]).encode('hex'), data[-3:-1].encode('hex'))\n",
    "\n",
    "def get_parts_df(pos, packets):\n",
    "    parts = [split_parts(p.tx_data(), pos) for p in packets] \n",
    "    parts_df = pd.DataFrame(parts, columns=[\"byte\", \"other\", \"hash\"])\n",
    "    parts_df.drop_duplicates(inplace=True)\n",
    "    return parts_df\n",
    "\n",
    "def analyze_parts(parts_df):\n",
    "    # Number of times byte changes independently of 'other'\n",
    "    independent_change_count = parts_df.groupby(['other']).count()['byte'].max() - 1\n",
    "    # Max number of times byte changed independently of hash\n",
    "    # Higher number here means not likely to be included in hash\n",
    "    hash_independent_change_count = parts_df.groupby(['hash', 'other']).count()['byte'].max() - 1\n",
    "    # Number of times hash changed dependent on byte\n",
    "    dependent_change_count = parts_df.groupby(['other']).count()['hash'].max() - 1\n",
    "    return (independent_change_count, hash_independent_change_count, dependent_change_count)\n",
    "\n",
    "plen = len(packets[0].tx_data())\n",
    "# For all bytes except the last three (2-byte hash and crc8)\n",
    "stats = [analyze_parts(get_parts_df(i, packets)) for i in range(4, plen-3)]\n",
    "stats = pd.DataFrame(stats, columns=['ichange', 'hichange', 'dchange'])"
   ]
  },
  {
   "cell_type": "code",
   "execution_count": 9,
   "metadata": {
    "collapsed": false
   },
   "outputs": [
    {
     "data": {
      "text/plain": [
       "<matplotlib.axes._subplots.AxesSubplot at 0x112895450>"
      ]
     },
     "execution_count": 9,
     "metadata": {},
     "output_type": "execute_result"
    },
    {
     "data": {
      "image/png": "[encoded data removed]",
      "text/plain": [
       "<matplotlib.figure.Figure at 0x1125da7d0>"
      ]
     },
     "metadata": {},
     "output_type": "display_data"
    }
   ],
   "source": [
    "stats['ichange'].plot.bar()"
   ]
  },
  {
   "cell_type": "code",
   "execution_count": 10,
   "metadata": {
    "collapsed": false
   },
   "outputs": [
    {
     "data": {
      "text/plain": [
       "<matplotlib.axes._subplots.AxesSubplot at 0x112c4ef90>"
      ]
     },
     "execution_count": 10,
     "metadata": {},
     "output_type": "execute_result"
    },
    {
     "data": {
      "image/png": "[encoded data removed]",
      "text/plain": [
       "<matplotlib.figure.Figure at 0x112c57b10>"
      ]
     },
     "metadata": {},
     "output_type": "display_data"
    }
   ],
   "source": [
    "stats['hichange'].plot.bar()"
   ]
  },
  {
   "cell_type": "code",
   "execution_count": 11,
   "metadata": {
    "collapsed": false
   },
   "outputs": [
    {
     "data": {
      "text/plain": [
       "<matplotlib.axes._subplots.AxesSubplot at 0x112e04290>"
      ]
     },
     "execution_count": 11,
     "metadata": {},
     "output_type": "execute_result"
    },
    {
     "data": {
      "image/png": "[encoded data removed]",
      "text/plain": [
       "<matplotlib.figure.Figure at 0x112e040d0>"
      ]
     },
     "metadata": {},
     "output_type": "display_data"
    }
   ],
   "source": [
    "stats['dchange'].plot.bar()"
   ]
  }
 ],
 "metadata": {
  "kernelspec": {
   "display_name": "Python 2",
   "language": "python",
   "name": "python2"
  },
  "language_info": {
   "codemirror_mode": {
    "name": "ipython",
    "version": 2
   },
   "file_extension": ".py",
   "mimetype": "text/x-python",
   "name": "python",
   "nbconvert_exporter": "python",
   "pygments_lexer": "ipython2",
   "version": "2.7.11"
  }
 },
 "nbformat": 4,
 "nbformat_minor": 0
}
